{
 "cells": [
  {
   "cell_type": "markdown",
   "metadata": {},
   "source": [
    "# Soluciones de interés"
   ]
  },
  {
   "cell_type": "markdown",
   "metadata": {},
   "source": [
    "**Punto 7:** Diseñe un programa que muestre las tablas de multiplicar del 1 al 9."
   ]
  },
  {
   "cell_type": "code",
   "execution_count": null,
   "metadata": {},
   "outputs": [],
   "source": [
    "def mostrarTablaDeMultiplicar(n: int):\n",
    "    print('Tabla del ' + str(n))\n",
    "\n",
    "    for i in range(1, 11):\n",
    "        producto = n*i\n",
    "        print(str(n) + 'x' + str(i) + '=' + str(producto))\n",
    "    \n",
    "    print()\n",
    "\n",
    "for numero in range(1, 10):\n",
    "    mostrarTablaDeMultiplicar(numero)"
   ]
  },
  {
   "cell_type": "markdown",
   "metadata": {},
   "source": [
    "**Punto 8:** Diseñar una función que permita calcular una aproximación de la función exponencial alrededor de 0 para cualquier valor x (real), utilizando los primeros n términos de la serie de Maclaurin. nota: use math para traer la función exponencial y mostrar la diferencia entre el valor real y la aproximación\n",
    "\n",
    "$$e^x \\approx exp(x,n) \\approx \\sum_{i=0}^{n} \\frac{x^i}{i!}$$"
   ]
  },
  {
   "cell_type": "code",
   "execution_count": null,
   "metadata": {},
   "outputs": [],
   "source": [
    "from math import exp, factorial\n",
    "\n",
    "def aproximacionExponencial(x: float, n: int) -> float:\n",
    "    suma: float = 0\n",
    "    for i in range(n+1):\n",
    "        nuevoTermino = x**i/factorial(i)\n",
    "\n",
    "        suma += nuevoTermino\n",
    "\n",
    "    return suma\n",
    "\n",
    "\n",
    "n: int = 10\n",
    "\n",
    "x: float = float(input('Ingrese un número real: '))\n",
    "\n",
    "aproximacion: float = aproximacionExponencial(x, n)\n",
    "\n",
    "valorReal: float = exp(x)\n",
    "\n",
    "print(f'Aproximación: {aproximacion}')\n",
    "print(f'Valor real: {valorReal}')\n",
    "\n",
    "error: float = abs(valorReal - aproximacion)/valorReal * 100\n",
    "\n",
    "print(f'{error}%')\n"
   ]
  },
  {
   "cell_type": "markdown",
   "metadata": {},
   "source": [
    "**Extra:** para las aproximaciones de series determine con que valor n se obtiene menos del 0.1% de error"
   ]
  },
  {
   "cell_type": "code",
   "execution_count": null,
   "metadata": {},
   "outputs": [],
   "source": [
    "x: float = float(input('Ingrese un número real: '))\n",
    "\n",
    "n: int = 0\n",
    "\n",
    "valorReal = exp(x)\n",
    "\n",
    "seguirIterando: bool = True\n",
    "\n",
    "while seguirIterando:\n",
    "    aproximacion = aproximacionExponencial(x, n)\n",
    "\n",
    "    error: float = abs(valorReal - aproximacion)/valorReal * 100\n",
    "\n",
    "    seguirIterando = error >= 0.1\n",
    "\n",
    "    n += 1\n",
    "\n",
    "print(f'Valor real: {valorReal}')\n",
    "print(f'Aproximación: {aproximacion}')\n",
    "\n",
    "print(f'Se obtuvo un error del {error}% con n igual a {n}')"
   ]
  }
 ],
 "metadata": {
  "kernelspec": {
   "display_name": "Python 3",
   "language": "python",
   "name": "python3"
  },
  "language_info": {
   "codemirror_mode": {
    "name": "ipython",
    "version": 3
   },
   "file_extension": ".py",
   "mimetype": "text/x-python",
   "name": "python",
   "nbconvert_exporter": "python",
   "pygments_lexer": "ipython3",
   "version": "3.10.12"
  },
  "orig_nbformat": 4
 },
 "nbformat": 4,
 "nbformat_minor": 2
}
